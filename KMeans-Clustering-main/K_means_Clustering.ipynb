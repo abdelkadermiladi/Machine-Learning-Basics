{
  "nbformat": 4,
  "nbformat_minor": 0,
  "metadata": {
    "colab": {
      "provenance": [],
      "authorship_tag": "ABX9TyNZv9ddNCr+T3FUUvdf7MqG",
      "include_colab_link": true
    },
    "kernelspec": {
      "name": "python3",
      "display_name": "Python 3"
    },
    "language_info": {
      "name": "python"
    }
  },
  "cells": [
    {
      "cell_type": "markdown",
      "metadata": {
        "id": "view-in-github",
        "colab_type": "text"
      },
      "source": [
        "<a href=\"https://colab.research.google.com/github/abdelkadermiladi/KMeans-Clustering/blob/main/K_means_Clustering.ipynb\" target=\"_parent\"><img src=\"https://colab.research.google.com/assets/colab-badge.svg\" alt=\"Open In Colab\"/></a>"
      ]
    },
    {
      "cell_type": "markdown",
      "source": [
        " K-means Clustering "
      ],
      "metadata": {
        "id": "ysD6l7b_KXlv"
      }
    },
    {
      "cell_type": "code",
      "source": [
        "import numpy as np\n",
        "import pandas as pd\n",
        "import matplotlib.pyplot as plt"
      ],
      "metadata": {
        "id": "xNQT3SoWJy2u"
      },
      "execution_count": 35,
      "outputs": []
    },
    {
      "cell_type": "code",
      "source": [
        "class KMeans:\n",
        "    def __init__(self, k=2, max_iterations=100):\n",
        "        self.k = k\n",
        "        self.max_iterations = max_iterations\n",
        "\n",
        "    def fit(self, X):\n",
        "        # Initialize the centroids randomly\n",
        "        self.centroids = X[np.random.choice(X.shape[0], self.k, replace=False)]\n",
        "\n",
        "        for i in range(self.max_iterations):\n",
        "            # Calculate the distances between the data points and the centroids\n",
        "            distances = np.array([np.linalg.norm(X - centroid, axis=1) for centroid in self.centroids])\n",
        "\n",
        "            # Assign each data point to the nearest centroid\n",
        "            self.labels = np.argmin(distances, axis=0)\n",
        "\n",
        "            # Update the centroids by taking the mean of all the data points assigned to each centroid\n",
        "            new_centroids = np.array([X[self.labels == j].mean(axis=0) for j in range(self.k)])\n",
        "\n",
        "            # If the centroids did not change, stop the iterations\n",
        "            if np.allclose(new_centroids, self.centroids):\n",
        "                break\n",
        "\n",
        "            self.centroids = new_centroids\n",
        "\n",
        "    def predict(self, X):\n",
        "        distances = np.array([np.linalg.norm(X - centroid, axis=1) for centroid in self.centroids])\n",
        "        return np.argmin(distances, axis=0)"
      ],
      "metadata": {
        "id": "oWF1uvqNJ0vG"
      },
      "execution_count": 37,
      "outputs": []
    },
    {
      "cell_type": "code",
      "source": [
        "# Load the data from a csv file\n",
        "data = pd.read_csv(\"driver-data.csv\")"
      ],
      "metadata": {
        "id": "SBcyasq9J8HD"
      },
      "execution_count": 38,
      "outputs": []
    },
    {
      "cell_type": "code",
      "source": [
        "# Delete the \"id\" column\n",
        "data = data.drop(\"id\", axis=1)"
      ],
      "metadata": {
        "id": "qQ3-vQzUJ_dN"
      },
      "execution_count": 39,
      "outputs": []
    },
    {
      "cell_type": "code",
      "source": [
        "# Convert the data to a numpy array\n",
        "X = data.values"
      ],
      "metadata": {
        "id": "eWTIj2SDKBeF"
      },
      "execution_count": 54,
      "outputs": []
    },
    {
      "cell_type": "code",
      "source": [
        "X"
      ],
      "metadata": {
        "colab": {
          "base_uri": "https://localhost:8080/"
        },
        "id": "sxIbo6MCLQt3",
        "outputId": "f3072b4b-8c4e-4e0b-b732-f01c4449c2a7"
      },
      "execution_count": 55,
      "outputs": [
        {
          "output_type": "execute_result",
          "data": {
            "text/plain": [
              "array([[ 71.24,  28.  ],\n",
              "       [ 52.53,  25.  ],\n",
              "       [ 64.54,  27.  ],\n",
              "       ...,\n",
              "       [170.91,  12.  ],\n",
              "       [176.14,   5.  ],\n",
              "       [168.03,   9.  ]])"
            ]
          },
          "metadata": {},
          "execution_count": 55
        }
      ]
    },
    {
      "cell_type": "code",
      "source": [
        "# Create an instance of the KMeans class\n",
        "kmeans = KMeans(k=3)"
      ],
      "metadata": {
        "id": "2FfxSt0PKC1m"
      },
      "execution_count": 65,
      "outputs": []
    },
    {
      "cell_type": "code",
      "source": [
        "# Fit the KMeans model to the data\n",
        "kmeans.fit(X)"
      ],
      "metadata": {
        "id": "htt4-c5YKFhd"
      },
      "execution_count": 66,
      "outputs": []
    },
    {
      "cell_type": "code",
      "source": [
        "# Get the centroids and the labels\n",
        "centroids = kmeans.centroids\n"
      ],
      "metadata": {
        "id": "a2SASKzIKHEl"
      },
      "execution_count": 67,
      "outputs": []
    },
    {
      "cell_type": "code",
      "source": [
        "centroids"
      ],
      "metadata": {
        "colab": {
          "base_uri": "https://localhost:8080/"
        },
        "id": "srMFwSGoLcLN",
        "outputId": "e2eae923-d66e-443a-de7c-5fd734d0b378"
      },
      "execution_count": 68,
      "outputs": [
        {
          "output_type": "execute_result",
          "data": {
            "text/plain": [
              "array([[ 41.64592691,   7.07574751],\n",
              "       [ 57.54238797,  10.38148585],\n",
              "       [180.09647059,  18.30788486]])"
            ]
          },
          "metadata": {},
          "execution_count": 68
        }
      ]
    },
    {
      "cell_type": "code",
      "source": [
        "labels = kmeans.predict(X)"
      ],
      "metadata": {
        "id": "PRLhZn2XL2-c"
      },
      "execution_count": 70,
      "outputs": []
    },
    {
      "cell_type": "code",
      "source": [
        "labels"
      ],
      "metadata": {
        "colab": {
          "base_uri": "https://localhost:8080/"
        },
        "id": "o1wZxc0qL4EO",
        "outputId": "41253f30-4b39-4766-8b7b-4f87e77fe269"
      },
      "execution_count": 71,
      "outputs": [
        {
          "output_type": "execute_result",
          "data": {
            "text/plain": [
              "array([1, 1, 1, ..., 2, 2, 2])"
            ]
          },
          "metadata": {},
          "execution_count": 71
        }
      ]
    },
    {
      "cell_type": "code",
      "source": [
        "# Plot the data points colored according to their cluster\n",
        "plt.scatter(X[:,0], X[:,1], c=labels, cmap='viridis')\n",
        "plt.xlabel(\"Speed\")\n",
        "plt.ylabel(\"distance\")\n",
        "\n",
        "plt.scatter(centroids[:,0], centroids[:,1],color='red')\n",
        "\n",
        "# Add a title to the plot\n",
        "plt.title(\"KMeans Clustering\")\n",
        "plt.show()"
      ],
      "metadata": {
        "colab": {
          "base_uri": "https://localhost:8080/",
          "height": 295
        },
        "id": "Rn4xu8iKKIa0",
        "outputId": "49736179-67dc-40ab-aaf2-597680aa7d31"
      },
      "execution_count": 72,
      "outputs": [
        {
          "output_type": "display_data",
          "data": {
            "text/plain": [
              "<Figure size 432x288 with 1 Axes>"
            ],
            "image/png": "[encoded data removed]"
          },
          "metadata": {
            "needs_background": "light"
          }
        }
      ]
    },
    {
      "cell_type": "code",
      "source": [
        "# Add the cluster id as a new column in the dataframe\n",
        "data[\"Cluster ID\"] = labels\n",
        "\n",
        "# Save the updated dataframe to a new CSV file\n",
        "data.to_csv(\"data-driver_with_cluster_id.csv\", index=False)\n"
      ],
      "metadata": {
        "id": "7t2NBqnfMTDa"
      },
      "execution_count": 75,
      "outputs": []
    },
    {
      "cell_type": "code",
      "source": [
        "# Count the number of data points in each cluster\n",
        "cluster_counts = np.unique(labels, return_counts=True)[1]\n",
        "\n",
        "# Print the count for each cluster\n",
        "for i, count in enumerate(cluster_counts):\n",
        "    print(f\"Cluster {i} has {count} data points\")\n"
      ],
      "metadata": {
        "colab": {
          "base_uri": "https://localhost:8080/"
        },
        "id": "5DOgRZENNTTm",
        "outputId": "5855318f-a484-44c7-f7d3-f2800e855bec"
      },
      "execution_count": 76,
      "outputs": [
        {
          "output_type": "stream",
          "name": "stdout",
          "text": [
            "Cluster 0 has 1505 data points\n",
            "Cluster 1 has 1696 data points\n",
            "Cluster 2 has 799 data points\n"
          ]
        }
      ]
    }
  ]
}