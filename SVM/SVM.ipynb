{
  "nbformat": 4,
  "nbformat_minor": 0,
  "metadata": {
    "colab": {
      "provenance": []
    },
    "kernelspec": {
      "name": "python3",
      "display_name": "Python 3"
    },
    "language_info": {
      "name": "python"
    }
  },
  "cells": [
    {
      "cell_type": "code",
      "execution_count": 1,
      "metadata": {
        "id": "yE4N5q5hCHAk"
      },
      "outputs": [],
      "source": [
        "#Importation des bibliothèques nécessaires\n",
        "import numpy as np\n",
        "import matplotlib.pyplot as plt\n",
        "import random"
      ]
    },
    {
      "cell_type": "code",
      "source": [
        "#Fonction qui calcule les contraintes gi(ω)\n",
        "def contrainte(x, y, w, i):\n",
        "    g = - y[i] * (np.dot(w[:2], x[i]) - w[-1]) + 1\n",
        "    return g\n"
      ],
      "metadata": {
        "id": "Ak-xNgikCOJb"
      },
      "execution_count": 2,
      "outputs": []
    },
    {
      "cell_type": "code",
      "source": [
        "\n",
        "#Fonction qui calcule les paramètres ω et λ\n",
        "def parameters(x, y):\n",
        "    lamda = np.array([0.1] * x.shape[0])\n",
        "    pas = 0.0005\n",
        "    eps = 1e-5\n",
        "    i = 0\n",
        "    while(i < 70000):\n",
        "        w = np.zeros(3)\n",
        "        gather = lamda.copy()\n",
        "        Margin = []\n",
        "        L = []\n",
        "        #Détermination de ω1 et ω2\n",
        "        w[:2] = np.dot(y * lamda, x)\n",
        "        #Détermination des points sur les vecteurs supports tels que λ > 0\n",
        "        for l in range(x.shape[0]):\n",
        "            if gather[l] > 0:\n",
        "                Margin.append(x[l])\n",
        "        #Détermination de ω3\n",
        "        if Margin != []:\n",
        "            for m in Margin:\n",
        "                w[-1] += np.dot(m, w[:2])\n",
        "            w[-1] /= len(Margin)\n",
        "        #Calcul des contraintes gi(ω) pour chaque individu\n",
        "        for j in range(len(x)):\n",
        "            L.append(contrainte(x, y, w, j))\n",
        "        g = np.array(L)\n",
        "        #Calcul de λ selon la méthode d'Uzawa\n",
        "        lamda += pas * g\n",
        "        for j in range(lamda.shape[0]):\n",
        "            if lamda[j] < 0:\n",
        "                lamda[j] = 0\n",
        "\n",
        "        if np.linalg.norm(lamda - gather, 2) < eps:\n",
        "           return w\n",
        "        i += 1\n",
        "    return w"
      ],
      "metadata": {
        "id": "8p04ZRH0COdW"
      },
      "execution_count": 3,
      "outputs": []
    },
    {
      "cell_type": "code",
      "source": [
        "\n",
        "#Fonction qui représente graphiquement la solution\n",
        "def show(x, w):\n",
        "    w = w.tolist()\n",
        "    #X est l'axe des abscisses et y est l'axe des ordonnées\n",
        "    X = x[:, 0]\n",
        "    y = x[:, 1]\n",
        "    #Détermination des 3 droites à dessiner : D0, D1 et D-1 \n",
        "    d0 = (- w[0] * X + w[2]) / w[1]\n",
        "    d1 = (- w[0] * X + w[2] + 1) / w[1]\n",
        "    d_1 = (- w[0] * X + w[2] - 1) / w[1]\n",
        "    plt.title(\"Support Vector Machine\")\n",
        "    plt.xlabel('Taille(m)')\n",
        "    plt.ylabel('Poids(Kg)')\n",
        "    plt.scatter(X, y, marker=\"o\", label = 'Individu', color = 'saddlebrown')\n",
        "    plt.plot(X, d0, label='D0', linestyle='dashed', color = 'red')\n",
        "    plt.plot(X, d1, label='D1', color = 'darkblue')\n",
        "    plt.plot(X, d_1, label='D-1', color = 'yellow')\n",
        "    plt.legend()\n",
        "    plt.grid()\n",
        "    plt.show()"
      ],
      "metadata": {
        "id": "lrV4OBpoCTgs"
      },
      "execution_count": 16,
      "outputs": []
    },
    {
      "cell_type": "code",
      "source": [
        "#Génération des données de test\n",
        "individu = np.array([[1.5, 72], [1.6, 77], [1.65, 80], [1.75, 92], [1.6, 60], [1.83, 69], [1.7, 65], [1.8, 72]])\n",
        "classification = np.array([1, 1, 1, 1, -1, -1, -1, -1])\n",
        "for i in range(12):\n",
        "    data = [random.uniform(1.5, 2.0), random.uniform(50, 100)]\n",
        "    individu = np.concatenate((individu, np.array([data])))\n",
        "    imc = data[1] / data[0] ** 2\n",
        "    if imc < 24.9:\n",
        "        classification = np.concatenate((classification, np.array([-1])))\n",
        "    else:\n",
        "        classification = np.concatenate((classification, np.array([1])))"
      ],
      "metadata": {
        "id": "WeGFjrbkCXFo"
      },
      "execution_count": 17,
      "outputs": []
    },
    {
      "cell_type": "code",
      "source": [
        "\n",
        "#Test de la fonction qui calcule les paramètres ω et λ\n",
        "W = parameters(individu, classification)"
      ],
      "metadata": {
        "id": "gL_5IsZ4CctU"
      },
      "execution_count": 18,
      "outputs": []
    },
    {
      "cell_type": "code",
      "source": [
        "#Test de la fonction qui génère la représentation graphique\n",
        "show(individu, W)"
      ],
      "metadata": {
        "colab": {
          "base_uri": "https://localhost:8080/",
          "height": 295
        },
        "id": "X9iTLXAZCfCm",
        "outputId": "ac818752-28f4-4bcc-9481-8039ab4a8d70"
      },
      "execution_count": 19,
      "outputs": [
        {
          "output_type": "display_data",
          "data": {
            "text/plain": [
              "<Figure size 432x288 with 1 Axes>"
            ],
            "image/png": "[encoded data removed]"
          },
          "metadata": {
            "needs_background": "light"
          }
        }
      ]
    },
    {
      "cell_type": "code",
      "source": [],
      "metadata": {
        "id": "-jR8t2xNC6X3"
      },
      "execution_count": null,
      "outputs": []
    }
  ]
}