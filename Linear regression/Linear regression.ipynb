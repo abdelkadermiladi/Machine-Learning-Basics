{
  "nbformat": 4,
  "nbformat_minor": 0,
  "metadata": {
    "colab": {
      "provenance": [],
      "authorship_tag": "ABX9TyOwyumzld7Xtu2wrN/Py2rh",
      "include_colab_link": true
    },
    "kernelspec": {
      "name": "python3",
      "display_name": "Python 3"
    },
    "language_info": {
      "name": "python"
    }
  },
  "cells": [
    {
      "cell_type": "markdown",
      "metadata": {
        "id": "view-in-github",
        "colab_type": "text"
      },
      "source": [
        "<a href=\"https://colab.research.google.com/github/abdelkadermiladi/Atelier-d-optimisation/blob/main/Linear%20regression.ipynb\" target=\"_parent\"><img src=\"https://colab.research.google.com/assets/colab-badge.svg\" alt=\"Open In Colab\"/></a>"
      ]
    },
    {
      "cell_type": "code",
      "source": [
        "import matplotlib.pyplot as plt\n",
        "import random\n",
        "import numpy as np\n",
        "from sklearn import linear_model\n",
        "from sklearn.datasets import make_regression\n",
        "from sklearn import metrics"
      ],
      "metadata": {
        "id": "M71GOZYbnNmY"
      },
      "execution_count": null,
      "outputs": []
    },
    {
      "cell_type": "code",
      "source": [
        "#NumPy's pseudo-random number generator\n",
        "np.random.seed(0)"
      ],
      "metadata": {
        "id": "jnHqZitJpP5O"
      },
      "execution_count": null,
      "outputs": []
    },
    {
      "cell_type": "code",
      "source": [
        "X, Y = make_regression(n_samples=100, n_features=1, noise=10)\n",
        "plt.scatter(X, Y)"
      ],
      "metadata": {
        "colab": {
          "base_uri": "https://localhost:8080/",
          "height": 282
        },
        "id": "L6ik6qsrfGQ2",
        "outputId": "7765c41a-6a27-4a10-b07f-c7e246d15555"
      },
      "execution_count": null,
      "outputs": [
        {
          "output_type": "execute_result",
          "data": {
            "text/plain": [
              "<matplotlib.collections.PathCollection at 0x7fb766e344d0>"
            ]
          },
          "metadata": {},
          "execution_count": 36
        },
        {
          "output_type": "display_data",
          "data": {
            "text/plain": [
              "<Figure size 432x288 with 1 Axes>"
            ],
            "image/png": "[encoded data removed]"
          },
          "metadata": {
            "needs_background": "light"
          }
        }
      ]
    },
    {
      "cell_type": "code",
      "source": [
        "# Split the data into training/testing sets\n",
        "X_train = X[:-20]\n",
        "X_test = X[-20:]"
      ],
      "metadata": {
        "id": "pMfZ8MPQnD14"
      },
      "execution_count": null,
      "outputs": []
    },
    {
      "cell_type": "code",
      "source": [
        "# Split the targets into training/testing sets\n",
        "Y_train = Y[:-20]\n",
        "Y_test = Y[-20:]"
      ],
      "metadata": {
        "id": "pirteld4n8v6"
      },
      "execution_count": null,
      "outputs": []
    },
    {
      "cell_type": "code",
      "source": [
        "#Visualizing the testing sets\n",
        "plt.scatter(X_test, Y_test)"
      ],
      "metadata": {
        "id": "OjJlt5zho1lz",
        "outputId": "9c00d810-3170-4048-bbf5-a41f28637a81",
        "colab": {
          "base_uri": "https://localhost:8080/",
          "height": 282
        }
      },
      "execution_count": null,
      "outputs": [
        {
          "output_type": "execute_result",
          "data": {
            "text/plain": [
              "<matplotlib.collections.PathCollection at 0x7fb766dc1c10>"
            ]
          },
          "metadata": {},
          "execution_count": 39
        },
        {
          "output_type": "display_data",
          "data": {
            "text/plain": [
              "<Figure size 432x288 with 1 Axes>"
            ],
            "image/png": "[encoded data removed]"
          },
          "metadata": {
            "needs_background": "light"
          }
        }
      ]
    },
    {
      "cell_type": "code",
      "source": [
        "#Visualizing the training sets\n",
        "plt.scatter(X_train, Y_train)"
      ],
      "metadata": {
        "colab": {
          "base_uri": "https://localhost:8080/",
          "height": 282
        },
        "id": "ywQOOAKOpTlw",
        "outputId": "55ef63f8-845d-4980-bb3c-6c99db8fc95c"
      },
      "execution_count": null,
      "outputs": [
        {
          "output_type": "execute_result",
          "data": {
            "text/plain": [
              "<matplotlib.collections.PathCollection at 0x7fb766dac810>"
            ]
          },
          "metadata": {},
          "execution_count": 40
        },
        {
          "output_type": "display_data",
          "data": {
            "text/plain": [
              "<Figure size 432x288 with 1 Axes>"
            ],
            "image/png": "[encoded data removed]"
          },
          "metadata": {
            "needs_background": "light"
          }
        }
      ]
    },
    {
      "cell_type": "code",
      "source": [
        "# Create linear regression object\n",
        "regr = linear_model.LinearRegression()\n",
        "# Train the model using the training sets\n",
        "regr.fit(X_train, Y_train)\n",
        "# Make predictions using the testing set\n",
        "Y_pred = regr.predict(X_test)"
      ],
      "metadata": {
        "id": "7FrpCZDioE1r"
      },
      "execution_count": null,
      "outputs": []
    },
    {
      "cell_type": "code",
      "source": [
        "# Plot outputs\n",
        "plt.scatter(X_test, Y_test)\n",
        "plt.plot(X_test, Y_pred, color=\"red\", linewidth=3)\n",
        "\n",
        "\n",
        "plt.show()"
      ],
      "metadata": {
        "colab": {
          "base_uri": "https://localhost:8080/",
          "height": 265
        },
        "id": "GYsd0GZXom-E",
        "outputId": "384ecb89-4d12-4d9a-b074-2fa4e4cdcc44"
      },
      "execution_count": null,
      "outputs": [
        {
          "output_type": "display_data",
          "data": {
            "text/plain": [
              "<Figure size 432x288 with 1 Axes>"
            ],
            "image/png": "[encoded data removed]"
          },
          "metadata": {
            "needs_background": "light"
          }
        }
      ]
    },
    {
      "cell_type": "code",
      "source": [
        "Y_test"
      ],
      "metadata": {
        "id": "TrUuynqD8OEq",
        "outputId": "1c76cc08-dde4-4351-caf6-349d0286e9c6",
        "colab": {
          "base_uri": "https://localhost:8080/"
        }
      },
      "execution_count": null,
      "outputs": [
        {
          "output_type": "execute_result",
          "data": {
            "text/plain": [
              "array([ 38.86216372,  26.98745642,  -8.50663786, -44.91534582,\n",
              "         1.67073962, -25.72383926, -15.58994334,  35.14699615,\n",
              "        18.16421972,  -9.62864522, -46.01670166,  -2.90606708,\n",
              "       -36.16765403,   2.98606223,  -7.4158067 , -48.44212133,\n",
              "        -0.46774828,  11.78446569, -52.76484926, -55.4200307 ])"
            ]
          },
          "metadata": {},
          "execution_count": 43
        }
      ]
    },
    {
      "cell_type": "code",
      "source": [
        "Y_pred"
      ],
      "metadata": {
        "id": "EsVNZoaV8P7K",
        "outputId": "62d58724-80eb-4314-df88-f024a132c721",
        "colab": {
          "base_uri": "https://localhost:8080/"
        }
      },
      "execution_count": null,
      "outputs": [
        {
          "output_type": "execute_result",
          "data": {
            "text/plain": [
              "array([ 35.74370455,  28.9363951 ,  -8.05895164, -47.70477027,\n",
              "        -5.98314778, -14.56796779, -18.2343432 ,  29.90738158,\n",
              "         3.71463991, -23.50921094, -54.77987222, -10.70588907,\n",
              "       -28.88517937,   5.20983688,   0.44099756, -51.77533118,\n",
              "       -17.17417011,  13.83491218, -71.12607171, -52.44295489])"
            ]
          },
          "metadata": {},
          "execution_count": 44
        }
      ]
    },
    {
      "cell_type": "code",
      "source": [
        "mse=mean_squared_error(Y_test, Y_pred)\n",
        "print(\"MSE =\",mse)"
      ],
      "metadata": {
        "id": "C6j_rW11uujV",
        "outputId": "d0104c13-8434-4f15-bde5-15f3fe261b65",
        "colab": {
          "base_uri": "https://localhost:8080/"
        }
      },
      "execution_count": null,
      "outputs": [
        {
          "output_type": "stream",
          "name": "stdout",
          "text": [
            "MSE = 76.9101389650662\n"
          ]
        }
      ]
    },
    {
      "cell_type": "code",
      "source": [
        "acc=metrics.r2_score(Y_test,Y_pred)\n",
        "print(\"Accuracy =\",acc)"
      ],
      "metadata": {
        "id": "PYLiM2nJ_nCg",
        "outputId": "15d1d544-caad-4562-d36b-2ae8b9bace98",
        "colab": {
          "base_uri": "https://localhost:8080/"
        }
      },
      "execution_count": null,
      "outputs": [
        {
          "output_type": "stream",
          "name": "stdout",
          "text": [
            "Accuracy = 0.9059143507912354\n"
          ]
        }
      ]
    },
    {
      "cell_type": "code",
      "source": [],
      "metadata": {
        "id": "cJbIGx0HAdSC"
      },
      "execution_count": null,
      "outputs": []
    }
  ]
}